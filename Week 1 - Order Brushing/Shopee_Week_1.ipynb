{
  "nbformat": 4,
  "nbformat_minor": 0,
  "metadata": {
    "colab": {
      "name": "Shopee Week 1.ipynb",
      "provenance": [],
      "collapsed_sections": []
    },
    "kernelspec": {
      "name": "python3",
      "display_name": "Python 3"
    }
  },
  "cells": [
    {
      "cell_type": "markdown",
      "metadata": {
        "id": "eZ8nsfnCZ3x_",
        "colab_type": "text"
      },
      "source": [
        "<h1>Data Checking & Sorting</h1>"
      ]
    },
    {
      "cell_type": "code",
      "metadata": {
        "id": "AIgezjSadSQA",
        "colab_type": "code",
        "colab": {}
      },
      "source": [
        "# Pandas for reading .csv\n",
        "import pandas as pd\n",
        "import numpy as np\n",
        "from datetime import timedelta"
      ],
      "execution_count": 0,
      "outputs": []
    },
    {
      "cell_type": "code",
      "metadata": {
        "id": "UmhmffFLHICY",
        "colab_type": "code",
        "outputId": "b1f93b30-38a4-4072-eb4c-a0eb40852698",
        "colab": {
          "base_uri": "https://localhost:8080/",
          "height": 204
        }
      },
      "source": [
        "df = pd.read_csv('order_brush_order.csv')\n",
        "df.head()"
      ],
      "execution_count": 0,
      "outputs": [
        {
          "output_type": "execute_result",
          "data": {
            "text/html": [
              "<div>\n",
              "<style scoped>\n",
              "    .dataframe tbody tr th:only-of-type {\n",
              "        vertical-align: middle;\n",
              "    }\n",
              "\n",
              "    .dataframe tbody tr th {\n",
              "        vertical-align: top;\n",
              "    }\n",
              "\n",
              "    .dataframe thead th {\n",
              "        text-align: right;\n",
              "    }\n",
              "</style>\n",
              "<table border=\"1\" class=\"dataframe\">\n",
              "  <thead>\n",
              "    <tr style=\"text-align: right;\">\n",
              "      <th></th>\n",
              "      <th>orderid</th>\n",
              "      <th>shopid</th>\n",
              "      <th>userid</th>\n",
              "      <th>event_time</th>\n",
              "    </tr>\n",
              "  </thead>\n",
              "  <tbody>\n",
              "    <tr>\n",
              "      <th>0</th>\n",
              "      <td>31076582227611</td>\n",
              "      <td>93950878</td>\n",
              "      <td>30530270</td>\n",
              "      <td>2019-12-27 00:23:03</td>\n",
              "    </tr>\n",
              "    <tr>\n",
              "      <th>1</th>\n",
              "      <td>31118059853484</td>\n",
              "      <td>156423439</td>\n",
              "      <td>46057927</td>\n",
              "      <td>2019-12-27 11:54:20</td>\n",
              "    </tr>\n",
              "    <tr>\n",
              "      <th>2</th>\n",
              "      <td>31123355095755</td>\n",
              "      <td>173699291</td>\n",
              "      <td>67341739</td>\n",
              "      <td>2019-12-27 13:22:35</td>\n",
              "    </tr>\n",
              "    <tr>\n",
              "      <th>3</th>\n",
              "      <td>31122059872723</td>\n",
              "      <td>63674025</td>\n",
              "      <td>149380322</td>\n",
              "      <td>2019-12-27 13:01:00</td>\n",
              "    </tr>\n",
              "    <tr>\n",
              "      <th>4</th>\n",
              "      <td>31117075665123</td>\n",
              "      <td>127249066</td>\n",
              "      <td>149493217</td>\n",
              "      <td>2019-12-27 11:37:55</td>\n",
              "    </tr>\n",
              "  </tbody>\n",
              "</table>\n",
              "</div>"
            ],
            "text/plain": [
              "          orderid     shopid     userid           event_time\n",
              "0  31076582227611   93950878   30530270  2019-12-27 00:23:03\n",
              "1  31118059853484  156423439   46057927  2019-12-27 11:54:20\n",
              "2  31123355095755  173699291   67341739  2019-12-27 13:22:35\n",
              "3  31122059872723   63674025  149380322  2019-12-27 13:01:00\n",
              "4  31117075665123  127249066  149493217  2019-12-27 11:37:55"
            ]
          },
          "metadata": {
            "tags": []
          },
          "execution_count": 6
        }
      ]
    },
    {
      "cell_type": "code",
      "metadata": {
        "id": "_er7EtmAHWk2",
        "colab_type": "code",
        "outputId": "be9d1c61-5285-4b68-9686-78259eaaaf28",
        "colab": {
          "base_uri": "https://localhost:8080/",
          "height": 204
        }
      },
      "source": [
        "# No empty data\n",
        "df.info()"
      ],
      "execution_count": 0,
      "outputs": [
        {
          "output_type": "stream",
          "text": [
            "<class 'pandas.core.frame.DataFrame'>\n",
            "RangeIndex: 222750 entries, 0 to 222749\n",
            "Data columns (total 4 columns):\n",
            " #   Column      Non-Null Count   Dtype \n",
            "---  ------      --------------   ----- \n",
            " 0   orderid     222750 non-null  int64 \n",
            " 1   shopid      222750 non-null  int64 \n",
            " 2   userid      222750 non-null  int64 \n",
            " 3   event_time  222750 non-null  object\n",
            "dtypes: int64(3), object(1)\n",
            "memory usage: 6.8+ MB\n"
          ],
          "name": "stdout"
        }
      ]
    },
    {
      "cell_type": "code",
      "metadata": {
        "id": "2xHkHwQ7Lh2X",
        "colab_type": "code",
        "outputId": "c5734bfa-55b9-43d6-c6f3-0aa39f480e0c",
        "colab": {
          "base_uri": "https://localhost:8080/",
          "height": 102
        }
      },
      "source": [
        "df.isnull().sum()"
      ],
      "execution_count": 0,
      "outputs": [
        {
          "output_type": "execute_result",
          "data": {
            "text/plain": [
              "orderid       0\n",
              "shopid        0\n",
              "userid        0\n",
              "event_time    0\n",
              "dtype: int64"
            ]
          },
          "metadata": {
            "tags": []
          },
          "execution_count": 10
        }
      ]
    },
    {
      "cell_type": "code",
      "metadata": {
        "id": "hmno8JnRP__r",
        "colab_type": "code",
        "outputId": "2498d846-c66b-45ac-8a75-f858574239f4",
        "colab": {
          "base_uri": "https://localhost:8080/",
          "height": 374
        }
      },
      "source": [
        "frequents = df['userid'].value_counts()\n",
        "frequents[:20]"
      ],
      "execution_count": 0,
      "outputs": [
        {
          "output_type": "execute_result",
          "data": {
            "text/plain": [
              "124597967    97\n",
              "50167978     63\n",
              "78206381     49\n",
              "145795810    47\n",
              "95399773     46\n",
              "198954492    46\n",
              "85650202     44\n",
              "153541865    41\n",
              "95500119     41\n",
              "153538082    41\n",
              "153541705    41\n",
              "153541920    40\n",
              "26107753     40\n",
              "134730965    40\n",
              "153541782    40\n",
              "211166728    39\n",
              "98620510     39\n",
              "95399915     38\n",
              "95703687     38\n",
              "188025647    37\n",
              "Name: userid, dtype: int64"
            ]
          },
          "metadata": {
            "tags": []
          },
          "execution_count": 18
        }
      ]
    },
    {
      "cell_type": "code",
      "metadata": {
        "id": "qaUIS79eX0Ot",
        "colab_type": "code",
        "outputId": "a4348c67-a8d3-4b3f-8a2e-09e64bde9835",
        "colab": {
          "base_uri": "https://localhost:8080/",
          "height": 669
        }
      },
      "source": [
        "df_sorted = df\n",
        "df_sorted['event_time'] = pd.to_datetime(df_sorted['event_time'])\n",
        "df_sorted = df_sorted.sort_values(by=['shopid','event_time'], ignore_index=True)\n",
        "df_sorted.head(20)"
      ],
      "execution_count": 0,
      "outputs": [
        {
          "output_type": "execute_result",
          "data": {
            "text/html": [
              "<div>\n",
              "<style scoped>\n",
              "    .dataframe tbody tr th:only-of-type {\n",
              "        vertical-align: middle;\n",
              "    }\n",
              "\n",
              "    .dataframe tbody tr th {\n",
              "        vertical-align: top;\n",
              "    }\n",
              "\n",
              "    .dataframe thead th {\n",
              "        text-align: right;\n",
              "    }\n",
              "</style>\n",
              "<table border=\"1\" class=\"dataframe\">\n",
              "  <thead>\n",
              "    <tr style=\"text-align: right;\">\n",
              "      <th></th>\n",
              "      <th>orderid</th>\n",
              "      <th>shopid</th>\n",
              "      <th>userid</th>\n",
              "      <th>event_time</th>\n",
              "    </tr>\n",
              "  </thead>\n",
              "  <tbody>\n",
              "    <tr>\n",
              "      <th>0</th>\n",
              "      <td>31086409141107</td>\n",
              "      <td>10009</td>\n",
              "      <td>196962305</td>\n",
              "      <td>2019-12-27 03:06:50</td>\n",
              "    </tr>\n",
              "    <tr>\n",
              "      <th>1</th>\n",
              "      <td>31144571933461</td>\n",
              "      <td>10051</td>\n",
              "      <td>2854032</td>\n",
              "      <td>2019-12-27 19:16:11</td>\n",
              "    </tr>\n",
              "    <tr>\n",
              "      <th>2</th>\n",
              "      <td>31254979546679</td>\n",
              "      <td>10051</td>\n",
              "      <td>48600461</td>\n",
              "      <td>2019-12-29 01:56:19</td>\n",
              "    </tr>\n",
              "    <tr>\n",
              "      <th>3</th>\n",
              "      <td>31195675919209</td>\n",
              "      <td>10061</td>\n",
              "      <td>168750452</td>\n",
              "      <td>2019-12-28 09:27:55</td>\n",
              "    </tr>\n",
              "    <tr>\n",
              "      <th>4</th>\n",
              "      <td>31205132327893</td>\n",
              "      <td>10061</td>\n",
              "      <td>194819216</td>\n",
              "      <td>2019-12-28 12:05:32</td>\n",
              "    </tr>\n",
              "    <tr>\n",
              "      <th>5</th>\n",
              "      <td>31412115824794</td>\n",
              "      <td>10061</td>\n",
              "      <td>130633421</td>\n",
              "      <td>2019-12-30 21:35:15</td>\n",
              "    </tr>\n",
              "    <tr>\n",
              "      <th>6</th>\n",
              "      <td>31431527100615</td>\n",
              "      <td>10061</td>\n",
              "      <td>62464559</td>\n",
              "      <td>2019-12-31 02:58:48</td>\n",
              "    </tr>\n",
              "    <tr>\n",
              "      <th>7</th>\n",
              "      <td>31075686185309</td>\n",
              "      <td>10084</td>\n",
              "      <td>4401933</td>\n",
              "      <td>2019-12-27 00:08:06</td>\n",
              "    </tr>\n",
              "    <tr>\n",
              "      <th>8</th>\n",
              "      <td>31077155357404</td>\n",
              "      <td>10084</td>\n",
              "      <td>13837190</td>\n",
              "      <td>2019-12-27 00:32:36</td>\n",
              "    </tr>\n",
              "    <tr>\n",
              "      <th>9</th>\n",
              "      <td>31079024994425</td>\n",
              "      <td>10084</td>\n",
              "      <td>39828049</td>\n",
              "      <td>2019-12-27 01:03:44</td>\n",
              "    </tr>\n",
              "    <tr>\n",
              "      <th>10</th>\n",
              "      <td>31079688206563</td>\n",
              "      <td>10084</td>\n",
              "      <td>73993513</td>\n",
              "      <td>2019-12-27 01:14:49</td>\n",
              "    </tr>\n",
              "    <tr>\n",
              "      <th>11</th>\n",
              "      <td>31103178638264</td>\n",
              "      <td>10084</td>\n",
              "      <td>80643747</td>\n",
              "      <td>2019-12-27 07:46:18</td>\n",
              "    </tr>\n",
              "    <tr>\n",
              "      <th>12</th>\n",
              "      <td>31108766989338</td>\n",
              "      <td>10084</td>\n",
              "      <td>11753447</td>\n",
              "      <td>2019-12-27 09:19:26</td>\n",
              "    </tr>\n",
              "    <tr>\n",
              "      <th>13</th>\n",
              "      <td>31122489886365</td>\n",
              "      <td>10084</td>\n",
              "      <td>102616150</td>\n",
              "      <td>2019-12-27 13:08:10</td>\n",
              "    </tr>\n",
              "    <tr>\n",
              "      <th>14</th>\n",
              "      <td>31122994584099</td>\n",
              "      <td>10084</td>\n",
              "      <td>162847440</td>\n",
              "      <td>2019-12-27 13:16:34</td>\n",
              "    </tr>\n",
              "    <tr>\n",
              "      <th>15</th>\n",
              "      <td>31123641739732</td>\n",
              "      <td>10084</td>\n",
              "      <td>8457753</td>\n",
              "      <td>2019-12-27 13:27:21</td>\n",
              "    </tr>\n",
              "    <tr>\n",
              "      <th>16</th>\n",
              "      <td>31134354630457</td>\n",
              "      <td>10084</td>\n",
              "      <td>96570515</td>\n",
              "      <td>2019-12-27 16:25:54</td>\n",
              "    </tr>\n",
              "    <tr>\n",
              "      <th>17</th>\n",
              "      <td>31144745245972</td>\n",
              "      <td>10084</td>\n",
              "      <td>99322339</td>\n",
              "      <td>2019-12-27 19:19:05</td>\n",
              "    </tr>\n",
              "    <tr>\n",
              "      <th>18</th>\n",
              "      <td>31147592882260</td>\n",
              "      <td>10084</td>\n",
              "      <td>81373632</td>\n",
              "      <td>2019-12-27 20:06:33</td>\n",
              "    </tr>\n",
              "    <tr>\n",
              "      <th>19</th>\n",
              "      <td>31152118785559</td>\n",
              "      <td>10084</td>\n",
              "      <td>12840239</td>\n",
              "      <td>2019-12-27 21:21:58</td>\n",
              "    </tr>\n",
              "  </tbody>\n",
              "</table>\n",
              "</div>"
            ],
            "text/plain": [
              "           orderid  shopid     userid          event_time\n",
              "0   31086409141107   10009  196962305 2019-12-27 03:06:50\n",
              "1   31144571933461   10051    2854032 2019-12-27 19:16:11\n",
              "2   31254979546679   10051   48600461 2019-12-29 01:56:19\n",
              "3   31195675919209   10061  168750452 2019-12-28 09:27:55\n",
              "4   31205132327893   10061  194819216 2019-12-28 12:05:32\n",
              "5   31412115824794   10061  130633421 2019-12-30 21:35:15\n",
              "6   31431527100615   10061   62464559 2019-12-31 02:58:48\n",
              "7   31075686185309   10084    4401933 2019-12-27 00:08:06\n",
              "8   31077155357404   10084   13837190 2019-12-27 00:32:36\n",
              "9   31079024994425   10084   39828049 2019-12-27 01:03:44\n",
              "10  31079688206563   10084   73993513 2019-12-27 01:14:49\n",
              "11  31103178638264   10084   80643747 2019-12-27 07:46:18\n",
              "12  31108766989338   10084   11753447 2019-12-27 09:19:26\n",
              "13  31122489886365   10084  102616150 2019-12-27 13:08:10\n",
              "14  31122994584099   10084  162847440 2019-12-27 13:16:34\n",
              "15  31123641739732   10084    8457753 2019-12-27 13:27:21\n",
              "16  31134354630457   10084   96570515 2019-12-27 16:25:54\n",
              "17  31144745245972   10084   99322339 2019-12-27 19:19:05\n",
              "18  31147592882260   10084   81373632 2019-12-27 20:06:33\n",
              "19  31152118785559   10084   12840239 2019-12-27 21:21:58"
            ]
          },
          "metadata": {
            "tags": []
          },
          "execution_count": 55
        }
      ]
    },
    {
      "cell_type": "code",
      "metadata": {
        "id": "d8Q3Bhrcc8bF",
        "colab_type": "code",
        "colab": {}
      },
      "source": [
        "# If shop event < 3 then userid = 0\n",
        "#\n",
        "#\n",
        "#"
      ],
      "execution_count": 0,
      "outputs": []
    },
    {
      "cell_type": "markdown",
      "metadata": {
        "id": "i4yHYaqwdlNq",
        "colab_type": "text"
      },
      "source": [
        "<h1>Function Preparations</h1>"
      ]
    },
    {
      "cell_type": "code",
      "metadata": {
        "id": "1CNJ6D4sdOjT",
        "colab_type": "code",
        "outputId": "f48d0c3c-878c-448d-b613-1ec521f16e56",
        "colab": {
          "base_uri": "https://localhost:8080/",
          "height": 34
        }
      },
      "source": [
        "shops = df_sorted['shopid'].unique()\n",
        "len(shops)"
      ],
      "execution_count": 0,
      "outputs": [
        {
          "output_type": "execute_result",
          "data": {
            "text/plain": [
              "18770"
            ]
          },
          "metadata": {
            "tags": []
          },
          "execution_count": 113
        }
      ]
    },
    {
      "cell_type": "code",
      "metadata": {
        "id": "TdXlS5VIeOmL",
        "colab_type": "code",
        "outputId": "6c66dad3-7dc0-4a1f-e931-cc3d33d3634c",
        "colab": {
          "base_uri": "https://localhost:8080/",
          "height": 34
        }
      },
      "source": [
        "df_sorted['event_time'][2] - df_sorted['event_time'][1] < timedelta(2)"
      ],
      "execution_count": 0,
      "outputs": [
        {
          "output_type": "execute_result",
          "data": {
            "text/plain": [
              "True"
            ]
          },
          "metadata": {
            "tags": []
          },
          "execution_count": 52
        }
      ]
    },
    {
      "cell_type": "markdown",
      "metadata": {
        "id": "gvDa6mgzq_ks",
        "colab_type": "text"
      },
      "source": [
        "<h1>Check for Suspicious Shops</h1>"
      ]
    },
    {
      "cell_type": "code",
      "metadata": {
        "id": "iSPIAA4vg3NU",
        "colab_type": "code",
        "colab": {}
      },
      "source": [
        "def hourdelta(time1, time2):\n",
        "    '''Calculate the difference between\n",
        "    time1 and time2 (time1-time2) in hours.'''\n",
        "    delta = (time1 - time2).total_seconds()\n",
        "    if(delta<0):\n",
        "        delta = delta*(-1)\n",
        "    return delta/3600\n",
        "\n",
        "def check_brush(df):\n",
        "  store = []\n",
        "  for i in shops:\n",
        "    check = df[df['shopid'] == i]\n",
        "    check = check['event_time']\n",
        "    check = check.reset_index(drop=True)\n",
        "    if (len(check) < 3):\n",
        "      store.append(0)\n",
        "    else:\n",
        "      cek = False\n",
        "      for j in range(0,len(check)-2):\n",
        "        if (hourdelta(check[j+2], check[j]) < 1):\n",
        "          cek = True\n",
        "      if cek == False:\n",
        "        store.append(0)\n",
        "      else:\n",
        "        store.append(1)\n",
        "  return store\n",
        "\n",
        "store = check_brush(df_sorted)"
      ],
      "execution_count": 0,
      "outputs": []
    },
    {
      "cell_type": "code",
      "metadata": {
        "id": "h4pQiBOvrFqY",
        "colab_type": "code",
        "colab": {}
      },
      "source": [
        "def user_check(df, shops, store):\n",
        "  user = []\n",
        "  for i in range(len(store)):\n",
        "    string = ''\n",
        "    if store[i] == 0:\n",
        "      user.append(0)\n",
        "    else:\n",
        "      a = 0\n",
        "      check = df[df['shopid'] == shops[i]]\n",
        "      users = check['userid'].value_counts().keys().tolist()\n",
        "      count = check['userid'].value_counts().tolist()\n",
        "      the_max = max(count)\n",
        "      for j in range(len(count)):\n",
        "        if count[j] == the_max:\n",
        "          if a == 0:\n",
        "            a = 1\n",
        "            string += str(users[j])\n",
        "          else:\n",
        "            string += \"&\"\n",
        "            string += str(users[j])\n",
        "      user.append(string)\n",
        "  return user\n",
        "\n",
        "frauds = user_check(df_sorted, shops, store)"
      ],
      "execution_count": 0,
      "outputs": []
    },
    {
      "cell_type": "code",
      "metadata": {
        "id": "iSXfLjyYU7oI",
        "colab_type": "code",
        "colab": {}
      },
      "source": [
        "# Result DataFrame\n",
        "\n",
        "result = pd.DataFrame(columns=['shopid','userid'])"
      ],
      "execution_count": 0,
      "outputs": []
    },
    {
      "cell_type": "code",
      "metadata": {
        "id": "7XRVwAByWE2S",
        "colab_type": "code",
        "colab": {}
      },
      "source": [
        "# Links\n",
        "# https://stackoverflow.com/questions/2119472/convert-a-timedelta-to-days-hours-and-minutes"
      ],
      "execution_count": 0,
      "outputs": []
    },
    {
      "cell_type": "code",
      "metadata": {
        "id": "1T8fg_R4xg6w",
        "colab_type": "code",
        "colab": {}
      },
      "source": [
        "# Result DataFrame\n",
        "\n",
        "result = pd.DataFrame(columns=['shopid','userid'])\n",
        "result['shopid'] = df_sorted['shopid'].unique()\n",
        "result['userid'] = frauds"
      ],
      "execution_count": 0,
      "outputs": []
    },
    {
      "cell_type": "markdown",
      "metadata": {
        "id": "wQuF8nGs4b6R",
        "colab_type": "text"
      },
      "source": [
        "# New Section"
      ]
    },
    {
      "cell_type": "code",
      "metadata": {
        "id": "nb8gCmf4xoqR",
        "colab_type": "code",
        "colab": {}
      },
      "source": [
        "result.to_csv('Submission3.csv', index=False)"
      ],
      "execution_count": 0,
      "outputs": []
    }
  ]
}