{
 "cells": [
  {
   "cell_type": "markdown",
   "metadata": {},
   "source": [
    "<h1>Natural Language Processing - Warmup</h1>\n",
    "<p>Reference by Shopee Code League NLP Webinar</p>"
   ]
  },
  {
   "cell_type": "code",
   "execution_count": 142,
   "metadata": {},
   "outputs": [],
   "source": [
    "# Essential libraries\n",
    "\n",
    "from nltk.tokenize import word_tokenize, sent_tokenize, TweetTokenizer\n",
    "from num2words import num2words\n",
    "from nltk.corpus import stopwords"
   ]
  },
  {
   "cell_type": "markdown",
   "metadata": {},
   "source": [
    "<h2>Text Normalization</h2>"
   ]
  },
  {
   "cell_type": "code",
   "execution_count": 143,
   "metadata": {},
   "outputs": [
    {
     "output_type": "stream",
     "name": "stdout",
     "text": "so one day, i stared at my screen and thought, 'what can i do during this holiday?'. i decided to watch youtube videos and anime at the beginning, and then doing a bit of coding practices after 1 pm. like in games, you have to get experience to level up, bro!\n"
    }
   ],
   "source": [
    "# Triple quotes for multi-line text\n",
    "text = \"\"\"So one day, I stared at my screen and thought, 'What can I do during this holiday?'. I decided to watch YouTube videos and anime at the beginning, and then doing a bit of coding practices after 1 PM. Like in games, you have to get experience to level up, bro!\"\"\"\n",
    "\n",
    "text = text.lower()\n",
    "print(text)"
   ]
  },
  {
   "cell_type": "code",
   "execution_count": 144,
   "metadata": {},
   "outputs": [
    {
     "output_type": "stream",
     "name": "stdout",
     "text": "so one day, i stared at my screen and thought, 'what can i do during this holiday?'.\ni decided to watch youtube videos and anime at the beginning, and then doing a bit of coding practices after 1 pm.\nlike in games, you have to get experience to level up, bro!\n"
    }
   ],
   "source": [
    "# Sentence tokenization\n",
    "sentences = sent_tokenize(text)\n",
    "for i in sentences:\n",
    "    print(i)"
   ]
  },
  {
   "cell_type": "code",
   "execution_count": 145,
   "metadata": {},
   "outputs": [],
   "source": [
    "# Word tokenization\n",
    "words = word_tokenize(text)"
   ]
  },
  {
   "cell_type": "code",
   "execution_count": 146,
   "metadata": {},
   "outputs": [],
   "source": [
    "def num_2_words(words):\n",
    "    temp_store = words.copy()\n",
    "    for i in range(len(temp_store)):\n",
    "        if (ord(temp_store[i][0]) >= 48 and ord(temp_store[i][0]) <= 57):\n",
    "            temp_store[i] = num2words(temp_store[i])\n",
    "    return temp_store\n",
    "\n",
    "words2 = num_2_words(words)"
   ]
  },
  {
   "cell_type": "code",
   "execution_count": 147,
   "metadata": {},
   "outputs": [],
   "source": [
    "def change_log(list1, list2):\n",
    "    if (len(list1) == len(list2)):\n",
    "        for i in range(len(list1)):\n",
    "            if list1[i] != list2[i]:\n",
    "                print(list1[i], \" -> \", list2[i])\n",
    "    else:\n",
    "        print(\"Invalid (different length)\")"
   ]
  },
  {
   "cell_type": "code",
   "execution_count": 148,
   "metadata": {},
   "outputs": [
    {
     "output_type": "stream",
     "name": "stdout",
     "text": "1  ->  one\n"
    }
   ],
   "source": [
    "change_log(words, words2)"
   ]
  },
  {
   "cell_type": "markdown",
   "metadata": {},
   "source": [
    "<h2>Removing Stopwords</h2>"
   ]
  },
  {
   "cell_type": "code",
   "execution_count": 164,
   "metadata": {},
   "outputs": [],
   "source": [
    "stop_words = stopwords.words('english')\n",
    "stop_words.append(',')\n",
    "stop_words.append('?')\n",
    "stop_words.append(\"'\")\n",
    "stop_words.append(\".\")\n",
    "stop_words.append('!')"
   ]
  },
  {
   "cell_type": "code",
   "execution_count": 165,
   "metadata": {},
   "outputs": [
    {
     "output_type": "stream",
     "name": "stdout",
     "text": "['one', 'day', 'stared', 'screen', 'thought', \"'what\", 'holiday', 'decided', 'watch', 'youtube', 'videos', 'anime', 'beginning', 'bit', 'coding', 'practices', 'one', 'pm', 'like', 'games', 'get', 'experience', 'level', 'bro']\n"
    }
   ],
   "source": [
    "words_filtered = []\n",
    "\n",
    "for i in words2:\n",
    "    if i not in stop_words:\n",
    "        words_filtered.append(i)\n",
    "\n",
    "print(words_filtered)"
   ]
  },
  {
   "cell_type": "markdown",
   "metadata": {},
   "source": [
    "<h2>Stemming</h2>"
   ]
  },
  {
   "cell_type": "code",
   "execution_count": null,
   "metadata": {},
   "outputs": [],
   "source": []
  }
 ],
 "metadata": {
  "language_info": {
   "codemirror_mode": {
    "name": "ipython",
    "version": 3
   },
   "file_extension": ".py",
   "mimetype": "text/x-python",
   "name": "python",
   "nbconvert_exporter": "python",
   "pygments_lexer": "ipython3",
   "version": "3.7.4-final"
  },
  "orig_nbformat": 2,
  "kernelspec": {
   "name": "python3",
   "display_name": "Python 3"
  }
 },
 "nbformat": 4,
 "nbformat_minor": 2
}